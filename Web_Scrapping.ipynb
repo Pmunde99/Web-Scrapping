{
 "cells": [
  {
   "cell_type": "code",
   "execution_count": null,
   "id": "a1238529",
   "metadata": {},
   "outputs": [],
   "source": [
    "import pandas as pd\n",
    "import numpy as np"
   ]
  },
  {
   "cell_type": "code",
   "execution_count": null,
   "id": "07c24b00",
   "metadata": {},
   "outputs": [],
   "source": [
    "pip install requests"
   ]
  },
  {
   "cell_type": "code",
   "execution_count": null,
   "id": "107e5221",
   "metadata": {},
   "outputs": [],
   "source": [
    "pip install html5lib"
   ]
  },
  {
   "cell_type": "code",
   "execution_count": null,
   "id": "c70a4565",
   "metadata": {},
   "outputs": [],
   "source": [
    "pip install bs4"
   ]
  },
  {
   "cell_type": "code",
   "execution_count": null,
   "id": "8f4e5471",
   "metadata": {},
   "outputs": [],
   "source": [
    "from bs4 import BeautifulSoup\n",
    "import  requests"
   ]
  },
  {
   "cell_type": "code",
   "execution_count": null,
   "id": "c00fae54",
   "metadata": {},
   "outputs": [],
   "source": [
    "URL='https://www.geeksforgeeks.org/introduction-deep-learning/'"
   ]
  },
  {
   "cell_type": "code",
   "execution_count": null,
   "id": "48c938a1",
   "metadata": {},
   "outputs": [],
   "source": [
    "page=request.get(URL)\n",
    "soup=BeautifulSoup(page.content.'html parser')\n",
    "print(soup)\n",
    "print(soup.prettify())"
   ]
  },
  {
   "cell_type": "code",
   "execution_count": null,
   "id": "e45189f0",
   "metadata": {},
   "outputs": [],
   "source": [
    "data=soup.find(id=\"main\")\n",
    "data.prettify()"
   ]
  },
  {
   "cell_type": "code",
   "execution_count": null,
   "id": "374cf170",
   "metadata": {},
   "outputs": [],
   "source": [
    "data=soup.find('div',attrs={'class':\"wrapper single-page\"})\n",
    "data.prettify()"
   ]
  },
  {
   "cell_type": "code",
   "execution_count": null,
   "id": "618d0c32",
   "metadata": {},
   "outputs": [],
   "source": [
    "from  selenium import webdriver\n",
    "import time\n",
    "from selenium.webdriver.common.keys import Keys\n",
    "from selenium.webdriver.common.by import By\n",
    "\n",
    "executable_path=r\"C:\\Users\\admin\\Desktop\\Priti\"\n",
    "\n",
    "dv=webdriver.Chrome(\"executable_path\")\n",
    "\n",
    "dv.get(\"https://www.flipkart.com/\")\n",
    "ip=dv.find_element(By.CLASS_NAME,\"_3704LK\")\n",
    "ip.send_keys(\"heels  for women\")\n",
    "time.sleep(15)\n",
    "dv.quit()"
   ]
  }
 ],
 "metadata": {
  "kernelspec": {
   "display_name": "Python 3 (ipykernel)",
   "language": "python",
   "name": "python3"
  },
  "language_info": {
   "codemirror_mode": {
    "name": "ipython",
    "version": 3
   },
   "file_extension": ".py",
   "mimetype": "text/x-python",
   "name": "python",
   "nbconvert_exporter": "python",
   "pygments_lexer": "ipython3",
   "version": "3.9.13"
  }
 },
 "nbformat": 4,
 "nbformat_minor": 5
}
